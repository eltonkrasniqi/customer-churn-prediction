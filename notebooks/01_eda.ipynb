{
  "cells": [
    {
      "cell_type": "markdown",
      "metadata": {},
      "source": [
        "# Exploratory Data Analysis - Churn Prediction\n",
        "\n",
        "This notebook provides a quick overview of the churn prediction dataset and key patterns.\n"
      ]
    },
    {
      "cell_type": "code",
      "execution_count": null,
      "metadata": {},
      "outputs": [],
      "source": [
        "# Import libraries\n",
        "import sys\n",
        "sys.path.append('..')\n",
        "\n",
        "import pandas as pd\n",
        "import numpy as np\n",
        "import matplotlib.pyplot as plt\n",
        "import seaborn as sns\n",
        "\n",
        "from src.dataset import load_data\n",
        "\n",
        "# Configure plotting\n",
        "sns.set_style(\"whitegrid\")\n",
        "plt.rcParams['figure.figsize'] = (12, 6)\n",
        "\n",
        "%matplotlib inline\n"
      ]
    },
    {
      "cell_type": "markdown",
      "metadata": {},
      "source": [
        "## 1. Load Data\n"
      ]
    },
    {
      "cell_type": "code",
      "execution_count": null,
      "metadata": {},
      "outputs": [],
      "source": [
        "# Load dataset\n",
        "df = load_data(\"../data/raw/synthetic_churn.csv\")\n",
        "\n",
        "print(f\"Dataset shape: {df.shape}\")\n",
        "print(f\"\\nColumn types:\\n{df.dtypes}\")\n",
        "print(f\"\\nFirst few rows:\")\n",
        "df.head()\n"
      ]
    },
    {
      "cell_type": "markdown",
      "metadata": {},
      "source": [
        "## 2. Target Distribution\n"
      ]
    },
    {
      "cell_type": "code",
      "execution_count": null,
      "metadata": {},
      "outputs": [],
      "source": [
        "# Churn distribution\n",
        "churn_counts = df['churned'].value_counts()\n",
        "churn_pct = df['churned'].value_counts(normalize=True)\n",
        "\n",
        "print(\"Churn Distribution:\")\n",
        "print(f\"  Not Churned (0): {churn_counts[0]} ({churn_pct[0]:.1%})\")\n",
        "print(f\"  Churned (1): {churn_counts[1]} ({churn_pct[1]:.1%})\")\n",
        "\n",
        "# Visualization\n",
        "fig, ax = plt.subplots(1, 2, figsize=(12, 4))\n",
        "\n",
        "ax[0].bar(['Not Churned', 'Churned'], churn_counts.values, color=['green', 'red'], alpha=0.7)\n",
        "ax[0].set_ylabel('Count')\n",
        "ax[0].set_title('Churn Distribution (Count)')\n",
        "ax[0].grid(axis='y', alpha=0.3)\n",
        "\n",
        "ax[1].pie(churn_counts.values, labels=['Not Churned', 'Churned'], autopct='%1.1f%%', \n",
        "          colors=['green', 'red'], startangle=90)\n",
        "ax[1].set_title('Churn Distribution (Percentage)')\n",
        "\n",
        "plt.tight_layout()\n",
        "plt.show()\n"
      ]
    },
    {
      "cell_type": "markdown",
      "metadata": {},
      "source": [
        "## 3. Numerical Features\n"
      ]
    },
    {
      "cell_type": "code",
      "execution_count": null,
      "metadata": {},
      "outputs": [],
      "source": [
        "# Summary statistics\n",
        "numerical_cols = ['tenure_days', 'tickets_last_30d', 'avg_handle_time', \n",
        "                  'sentiment_avg', 'escalations_90d']\n",
        "\n",
        "print(\"Numerical Feature Statistics:\")\n",
        "df[numerical_cols].describe()\n"
      ]
    },
    {
      "cell_type": "code",
      "execution_count": null,
      "metadata": {},
      "outputs": [],
      "source": [
        "# Distribution plots by churn status\n",
        "fig, axes = plt.subplots(2, 3, figsize=(15, 8))\n",
        "axes = axes.flatten()\n",
        "\n",
        "for idx, col in enumerate(numerical_cols):\n",
        "    df[df['churned']==0][col].hist(ax=axes[idx], bins=30, alpha=0.5, \n",
        "                                     label='Not Churned', color='green', edgecolor='black')\n",
        "    df[df['churned']==1][col].hist(ax=axes[idx], bins=30, alpha=0.5, \n",
        "                                     label='Churned', color='red', edgecolor='black')\n",
        "    axes[idx].set_xlabel(col)\n",
        "    axes[idx].set_ylabel('Frequency')\n",
        "    axes[idx].legend()\n",
        "    axes[idx].grid(alpha=0.3)\n",
        "\n",
        "# Remove empty subplot\n",
        "fig.delaxes(axes[-1])\n",
        "\n",
        "plt.suptitle('Numerical Feature Distributions by Churn Status', fontsize=14, y=1.02)\n",
        "plt.tight_layout()\n",
        "plt.show()\n"
      ]
    },
    {
      "cell_type": "markdown",
      "metadata": {},
      "source": [
        "## 4. Categorical Features\n"
      ]
    },
    {
      "cell_type": "code",
      "execution_count": null,
      "metadata": {},
      "outputs": [],
      "source": [
        "# Churn rate by categorical features\n",
        "categorical_cols = ['channel', 'plan_tier', 'first_contact_resolution']\n",
        "\n",
        "fig, axes = plt.subplots(1, 3, figsize=(15, 4))\n",
        "\n",
        "for idx, col in enumerate(categorical_cols):\n",
        "    churn_by_cat = df.groupby(col)['churned'].agg(['mean', 'count'])\n",
        "    \n",
        "    churn_by_cat['mean'].plot(kind='bar', ax=axes[idx], color='steelblue', alpha=0.7, edgecolor='black')\n",
        "    axes[idx].set_ylabel('Churn Rate')\n",
        "    axes[idx].set_xlabel(col)\n",
        "    axes[idx].set_title(f'Churn Rate by {col}')\n",
        "    axes[idx].grid(axis='y', alpha=0.3)\n",
        "    axes[idx].set_xticklabels(axes[idx].get_xticklabels(), rotation=45, ha='right')\n",
        "    \n",
        "    # Add count labels on bars\n",
        "    for i, (val, count) in enumerate(zip(churn_by_cat['mean'], churn_by_cat['count'])):\n",
        "        axes[idx].text(i, val, f'n={count}', ha='center', va='bottom', fontsize=9)\n",
        "\n",
        "plt.tight_layout()\n",
        "plt.show()\n"
      ]
    },
    {
      "cell_type": "markdown",
      "metadata": {},
      "source": [
        "## 5. Correlation Analysis\n"
      ]
    },
    {
      "cell_type": "code",
      "execution_count": null,
      "metadata": {},
      "outputs": [],
      "source": [
        "# Correlation matrix\n",
        "correlation_features = numerical_cols + ['churned']\n",
        "corr_matrix = df[correlation_features].corr()\n",
        "\n",
        "# Plot heatmap\n",
        "plt.figure(figsize=(10, 8))\n",
        "sns.heatmap(corr_matrix, annot=True, fmt='.2f', cmap='coolwarm', center=0, \n",
        "            square=True, linewidths=1, cbar_kws={\"shrink\": 0.8})\n",
        "plt.title('Feature Correlation Matrix', fontsize=14)\n",
        "plt.tight_layout()\n",
        "plt.show()\n",
        "\n",
        "# Print correlations with target\n",
        "print(\"\\nCorrelations with Churn (sorted by absolute value):\")\n",
        "churn_corr = corr_matrix['churned'].drop('churned').abs().sort_values(ascending=False)\n",
        "for feature, corr in churn_corr.items():\n",
        "    print(f\"  {feature:25s}: {corr_matrix['churned'][feature]:+.3f}\")\n"
      ]
    },
    {
      "cell_type": "markdown",
      "metadata": {},
      "source": [
        "## 6. Key Insights\n",
        "\n",
        "Based on the exploratory analysis:\n",
        "\n",
        "1. **Class Balance**: Check if the churn rate is balanced or skewed\n",
        "2. **Tenure**: Longer tenure typically correlates with lower churn\n",
        "3. **Support Volume**: Higher ticket counts often signal dissatisfaction\n",
        "4. **Sentiment**: Negative sentiment is a strong churn indicator\n",
        "5. **Escalations**: Strong predictor of churn risk\n",
        "6. **Channel & Plan**: Different churn rates across segments\n",
        "\n",
        "**Next Steps:**\n",
        "- Feature engineering (if needed)\n",
        "- Handle class imbalance with `class_weight='balanced'`\n",
        "- Train baseline model and evaluate\n",
        "- Consider ensemble methods (XGBoost) for better performance\n"
      ]
    },
    {
      "cell_type": "markdown",
      "metadata": {},
      "source": [
        "## 7. Missing Values Check\n"
      ]
    },
    {
      "cell_type": "code",
      "execution_count": null,
      "metadata": {},
      "outputs": [],
      "source": [
        "# Check for missing values\n",
        "missing = df.isnull().sum()\n",
        "missing_pct = (missing / len(df)) * 100\n",
        "\n",
        "missing_df = pd.DataFrame({\n",
        "    'Missing Count': missing,\n",
        "    'Percentage': missing_pct\n",
        "})\n",
        "\n",
        "print(\"Missing Values Summary:\")\n",
        "print(missing_df[missing_df['Missing Count'] > 0])\n",
        "\n",
        "if missing_df['Missing Count'].sum() == 0:\n",
        "    print(\"✓ No missing values found in the dataset!\")\n"
      ]
    }
  ],
  "metadata": {
    "language_info": {
      "name": "python"
    }
  },
  "nbformat": 4,
  "nbformat_minor": 2
}
